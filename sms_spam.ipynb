{
  "nbformat": 4,
  "nbformat_minor": 0,
  "metadata": {
    "colab": {
      "name": "sms_spam.ipynb",
      "provenance": [],
      "collapsed_sections": []
    },
    "kernelspec": {
      "name": "python3",
      "display_name": "Python 3"
    }
  },
  "cells": [
    {
      "cell_type": "markdown",
      "metadata": {
        "id": "B1r2SQ4ifun6"
      },
      "source": [
        "Berikut adalah multiklasifikasi untuk kasus **SMS**. <br> \n",
        "Disini akan dikelompokan kategori sms yang mengandung konten sms normal (sms), sms penipuan(penipuan), dan sms promo(promo)."
      ]
    },
    {
      "cell_type": "code",
      "metadata": {
        "id": "PofS1Zy_jLju"
      },
      "source": [
        "import csv\n",
        "import tensorflow as tf\n",
        "import numpy as np\n",
        "from tensorflow.keras.preprocessing.text import Tokenizer\n",
        "from tensorflow.keras.preprocessing.sequence import pad_sequences\n",
        "from tensorflow.keras.models import Sequential\n",
        "from tensorflow.keras.layers import Dense, Flatten, LSTM, Dropout, Activation, Embedding, Bidirectional, Masking\n"
      ],
      "execution_count": 134,
      "outputs": []
    },
    {
      "cell_type": "code",
      "metadata": {
        "id": "2Wwl6Mz8jOOf",
        "outputId": "7547cbaf-d97e-4773-e64c-59547a8f13d2",
        "colab": {
          "base_uri": "https://localhost:8080/",
          "height": 34
        }
      },
      "source": [
        "import pandas as pd\n",
        "from google.colab import drive\n",
        "drive.mount('/content/drive')"
      ],
      "execution_count": 135,
      "outputs": [
        {
          "output_type": "stream",
          "text": [
            "Drive already mounted at /content/drive; to attempt to forcibly remount, call drive.mount(\"/content/drive\", force_remount=True).\n"
          ],
          "name": "stdout"
        }
      ]
    },
    {
      "cell_type": "code",
      "metadata": {
        "id": "5PNtt32akQww"
      },
      "source": [
        "df_train = pd.read_csv('/content/drive/My Drive/spam.csv')"
      ],
      "execution_count": 136,
      "outputs": []
    },
    {
      "cell_type": "code",
      "metadata": {
        "id": "HClUFuKLMt5o",
        "outputId": "5a5c94b6-476d-4f80-da1a-b436c1bf858c",
        "colab": {
          "base_uri": "https://localhost:8080/",
          "height": 419
        }
      },
      "source": [
        "df_train"
      ],
      "execution_count": 137,
      "outputs": [
        {
          "output_type": "execute_result",
          "data": {
            "text/html": [
              "<div>\n",
              "<style scoped>\n",
              "    .dataframe tbody tr th:only-of-type {\n",
              "        vertical-align: middle;\n",
              "    }\n",
              "\n",
              "    .dataframe tbody tr th {\n",
              "        vertical-align: top;\n",
              "    }\n",
              "\n",
              "    .dataframe thead th {\n",
              "        text-align: right;\n",
              "    }\n",
              "</style>\n",
              "<table border=\"1\" class=\"dataframe\">\n",
              "  <thead>\n",
              "    <tr style=\"text-align: right;\">\n",
              "      <th></th>\n",
              "      <th>Teks</th>\n",
              "      <th>label</th>\n",
              "    </tr>\n",
              "  </thead>\n",
              "  <tbody>\n",
              "    <tr>\n",
              "      <th>0</th>\n",
              "      <td>[PROMO] Beli paket Flash mulai 1GB di MY TELKO...</td>\n",
              "      <td>promo</td>\n",
              "    </tr>\n",
              "    <tr>\n",
              "      <th>1</th>\n",
              "      <td>2.5 GB/30 hari hanya Rp 35 Ribu Spesial buat A...</td>\n",
              "      <td>promo</td>\n",
              "    </tr>\n",
              "    <tr>\n",
              "      <th>2</th>\n",
              "      <td>2016-07-08 11:47:11.Plg Yth, sisa kuota Flash ...</td>\n",
              "      <td>promo</td>\n",
              "    </tr>\n",
              "    <tr>\n",
              "      <th>3</th>\n",
              "      <td>2016-08-07 11:29:47.Plg Yth, sisa kuota Flash ...</td>\n",
              "      <td>promo</td>\n",
              "    </tr>\n",
              "    <tr>\n",
              "      <th>4</th>\n",
              "      <td>4.5GB/30 hari hanya Rp 55 Ribu Spesial buat an...</td>\n",
              "      <td>promo</td>\n",
              "    </tr>\n",
              "    <tr>\n",
              "      <th>...</th>\n",
              "      <td>...</td>\n",
              "      <td>...</td>\n",
              "    </tr>\n",
              "    <tr>\n",
              "      <th>1138</th>\n",
              "      <td>Yooo sama2, oke nanti aku umumin di grup kelas</td>\n",
              "      <td>sms</td>\n",
              "    </tr>\n",
              "    <tr>\n",
              "      <th>1139</th>\n",
              "      <td>😁 sebelumnya ga ad nulis kerudung. Kirain warn...</td>\n",
              "      <td>sms</td>\n",
              "    </tr>\n",
              "    <tr>\n",
              "      <th>1140</th>\n",
              "      <td>Mba mau kirim 300 ya</td>\n",
              "      <td>sms</td>\n",
              "    </tr>\n",
              "    <tr>\n",
              "      <th>1141</th>\n",
              "      <td>nama1  beaok bwrangkat pagi...mau cas atay tra...</td>\n",
              "      <td>sms</td>\n",
              "    </tr>\n",
              "    <tr>\n",
              "      <th>1142</th>\n",
              "      <td>No bri atas nama kamu mana</td>\n",
              "      <td>sms</td>\n",
              "    </tr>\n",
              "  </tbody>\n",
              "</table>\n",
              "<p>1143 rows × 2 columns</p>\n",
              "</div>"
            ],
            "text/plain": [
              "                                                   Teks  label\n",
              "0     [PROMO] Beli paket Flash mulai 1GB di MY TELKO...  promo\n",
              "1     2.5 GB/30 hari hanya Rp 35 Ribu Spesial buat A...  promo\n",
              "2     2016-07-08 11:47:11.Plg Yth, sisa kuota Flash ...  promo\n",
              "3     2016-08-07 11:29:47.Plg Yth, sisa kuota Flash ...  promo\n",
              "4     4.5GB/30 hari hanya Rp 55 Ribu Spesial buat an...  promo\n",
              "...                                                 ...    ...\n",
              "1138     Yooo sama2, oke nanti aku umumin di grup kelas    sms\n",
              "1139  😁 sebelumnya ga ad nulis kerudung. Kirain warn...    sms\n",
              "1140                               Mba mau kirim 300 ya    sms\n",
              "1141  nama1  beaok bwrangkat pagi...mau cas atay tra...    sms\n",
              "1142                         No bri atas nama kamu mana    sms\n",
              "\n",
              "[1143 rows x 2 columns]"
            ]
          },
          "metadata": {
            "tags": []
          },
          "execution_count": 137
        }
      ]
    },
    {
      "cell_type": "markdown",
      "metadata": {
        "id": "ZJqq5NQcgJrV"
      },
      "source": [
        "**Data preprocessing and Cleaning**"
      ]
    },
    {
      "cell_type": "code",
      "metadata": {
        "id": "7czaM5jrKHDS"
      },
      "source": [
        "category = pd.get_dummies(df_train.label)"
      ],
      "execution_count": 138,
      "outputs": []
    },
    {
      "cell_type": "code",
      "metadata": {
        "id": "PqKa-JOKKMYi",
        "outputId": "0fda9287-6c65-428b-c2dc-911998e8fa6d",
        "colab": {
          "base_uri": "https://localhost:8080/",
          "height": 255
        }
      },
      "source": [
        "print(category)"
      ],
      "execution_count": 139,
      "outputs": [
        {
          "output_type": "stream",
          "text": [
            "      penipuan  promo  sms\n",
            "0            0      1    0\n",
            "1            0      1    0\n",
            "2            0      1    0\n",
            "3            0      1    0\n",
            "4            0      1    0\n",
            "...        ...    ...  ...\n",
            "1138         0      0    1\n",
            "1139         0      0    1\n",
            "1140         0      0    1\n",
            "1141         0      0    1\n",
            "1142         0      0    1\n",
            "\n",
            "[1143 rows x 3 columns]\n"
          ],
          "name": "stdout"
        }
      ]
    },
    {
      "cell_type": "markdown",
      "metadata": {
        "id": "HJmc09XDfqU4"
      },
      "source": [
        "**Terdapat 1000 Sample**"
      ]
    },
    {
      "cell_type": "code",
      "metadata": {
        "id": "R8em0UJ4KQd2",
        "outputId": "ef7abf9b-3391-4511-b784-2631c82cc9ea",
        "colab": {
          "base_uri": "https://localhost:8080/",
          "height": 419
        }
      },
      "source": [
        "df_baru = pd.concat([df_train, category], axis=1)\n",
        "df_baru = df_baru.drop(columns='label')\n",
        "df_baru"
      ],
      "execution_count": 140,
      "outputs": [
        {
          "output_type": "execute_result",
          "data": {
            "text/html": [
              "<div>\n",
              "<style scoped>\n",
              "    .dataframe tbody tr th:only-of-type {\n",
              "        vertical-align: middle;\n",
              "    }\n",
              "\n",
              "    .dataframe tbody tr th {\n",
              "        vertical-align: top;\n",
              "    }\n",
              "\n",
              "    .dataframe thead th {\n",
              "        text-align: right;\n",
              "    }\n",
              "</style>\n",
              "<table border=\"1\" class=\"dataframe\">\n",
              "  <thead>\n",
              "    <tr style=\"text-align: right;\">\n",
              "      <th></th>\n",
              "      <th>Teks</th>\n",
              "      <th>penipuan</th>\n",
              "      <th>promo</th>\n",
              "      <th>sms</th>\n",
              "    </tr>\n",
              "  </thead>\n",
              "  <tbody>\n",
              "    <tr>\n",
              "      <th>0</th>\n",
              "      <td>[PROMO] Beli paket Flash mulai 1GB di MY TELKO...</td>\n",
              "      <td>0</td>\n",
              "      <td>1</td>\n",
              "      <td>0</td>\n",
              "    </tr>\n",
              "    <tr>\n",
              "      <th>1</th>\n",
              "      <td>2.5 GB/30 hari hanya Rp 35 Ribu Spesial buat A...</td>\n",
              "      <td>0</td>\n",
              "      <td>1</td>\n",
              "      <td>0</td>\n",
              "    </tr>\n",
              "    <tr>\n",
              "      <th>2</th>\n",
              "      <td>2016-07-08 11:47:11.Plg Yth, sisa kuota Flash ...</td>\n",
              "      <td>0</td>\n",
              "      <td>1</td>\n",
              "      <td>0</td>\n",
              "    </tr>\n",
              "    <tr>\n",
              "      <th>3</th>\n",
              "      <td>2016-08-07 11:29:47.Plg Yth, sisa kuota Flash ...</td>\n",
              "      <td>0</td>\n",
              "      <td>1</td>\n",
              "      <td>0</td>\n",
              "    </tr>\n",
              "    <tr>\n",
              "      <th>4</th>\n",
              "      <td>4.5GB/30 hari hanya Rp 55 Ribu Spesial buat an...</td>\n",
              "      <td>0</td>\n",
              "      <td>1</td>\n",
              "      <td>0</td>\n",
              "    </tr>\n",
              "    <tr>\n",
              "      <th>...</th>\n",
              "      <td>...</td>\n",
              "      <td>...</td>\n",
              "      <td>...</td>\n",
              "      <td>...</td>\n",
              "    </tr>\n",
              "    <tr>\n",
              "      <th>1138</th>\n",
              "      <td>Yooo sama2, oke nanti aku umumin di grup kelas</td>\n",
              "      <td>0</td>\n",
              "      <td>0</td>\n",
              "      <td>1</td>\n",
              "    </tr>\n",
              "    <tr>\n",
              "      <th>1139</th>\n",
              "      <td>😁 sebelumnya ga ad nulis kerudung. Kirain warn...</td>\n",
              "      <td>0</td>\n",
              "      <td>0</td>\n",
              "      <td>1</td>\n",
              "    </tr>\n",
              "    <tr>\n",
              "      <th>1140</th>\n",
              "      <td>Mba mau kirim 300 ya</td>\n",
              "      <td>0</td>\n",
              "      <td>0</td>\n",
              "      <td>1</td>\n",
              "    </tr>\n",
              "    <tr>\n",
              "      <th>1141</th>\n",
              "      <td>nama1  beaok bwrangkat pagi...mau cas atay tra...</td>\n",
              "      <td>0</td>\n",
              "      <td>0</td>\n",
              "      <td>1</td>\n",
              "    </tr>\n",
              "    <tr>\n",
              "      <th>1142</th>\n",
              "      <td>No bri atas nama kamu mana</td>\n",
              "      <td>0</td>\n",
              "      <td>0</td>\n",
              "      <td>1</td>\n",
              "    </tr>\n",
              "  </tbody>\n",
              "</table>\n",
              "<p>1143 rows × 4 columns</p>\n",
              "</div>"
            ],
            "text/plain": [
              "                                                   Teks  penipuan  promo  sms\n",
              "0     [PROMO] Beli paket Flash mulai 1GB di MY TELKO...         0      1    0\n",
              "1     2.5 GB/30 hari hanya Rp 35 Ribu Spesial buat A...         0      1    0\n",
              "2     2016-07-08 11:47:11.Plg Yth, sisa kuota Flash ...         0      1    0\n",
              "3     2016-08-07 11:29:47.Plg Yth, sisa kuota Flash ...         0      1    0\n",
              "4     4.5GB/30 hari hanya Rp 55 Ribu Spesial buat an...         0      1    0\n",
              "...                                                 ...       ...    ...  ...\n",
              "1138     Yooo sama2, oke nanti aku umumin di grup kelas         0      0    1\n",
              "1139  😁 sebelumnya ga ad nulis kerudung. Kirain warn...         0      0    1\n",
              "1140                               Mba mau kirim 300 ya         0      0    1\n",
              "1141  nama1  beaok bwrangkat pagi...mau cas atay tra...         0      0    1\n",
              "1142                         No bri atas nama kamu mana         0      0    1\n",
              "\n",
              "[1143 rows x 4 columns]"
            ]
          },
          "metadata": {
            "tags": []
          },
          "execution_count": 140
        }
      ]
    },
    {
      "cell_type": "code",
      "metadata": {
        "id": "6vrTo1RFKaKw"
      },
      "source": [
        "teks = df_baru['Teks'].values\n",
        "label = df_baru[['penipuan', 'promo', 'sms']].values"
      ],
      "execution_count": 141,
      "outputs": []
    },
    {
      "cell_type": "markdown",
      "metadata": {
        "id": "w_2iJG3IgQx0"
      },
      "source": [
        "**Training and Validation Spliting** <br>\n",
        "dengan 20% data test. sudah menggunakan fungsi tokenizer untuk menggabungkan data teks."
      ]
    },
    {
      "cell_type": "code",
      "metadata": {
        "id": "zfwHVsY8MEQC"
      },
      "source": [
        "from sklearn.model_selection import train_test_split\n",
        "teks_latih, teks_test, label_latih, label_test = train_test_split(teks, label, test_size=0.2)"
      ],
      "execution_count": 142,
      "outputs": []
    },
    {
      "cell_type": "code",
      "metadata": {
        "id": "a40pfKkzMUr-"
      },
      "source": [
        "from tensorflow.keras.preprocessing.text import Tokenizer\n",
        "from tensorflow.keras.preprocessing.sequence import pad_sequences\n",
        " \n",
        "tokenizer = Tokenizer(num_words=5000, oov_token='x')\n",
        "tokenizer.fit_on_texts(teks_latih) \n",
        "tokenizer.fit_on_texts(teks_test)\n",
        " \n",
        "sekuens_latih = tokenizer.texts_to_sequences(teks_latih)\n",
        "sekuens_test = tokenizer.texts_to_sequences(teks_test)\n",
        " \n",
        "padded_latih = pad_sequences(sekuens_latih) \n",
        "padded_test = pad_sequences(sekuens_test)"
      ],
      "execution_count": 143,
      "outputs": []
    },
    {
      "cell_type": "markdown",
      "metadata": {
        "id": "iElHNyFFgaJQ"
      },
      "source": [
        "Terdapat 3 kelas kategorikal, dilihat dari shape."
      ]
    },
    {
      "cell_type": "code",
      "metadata": {
        "id": "oiSSgeeoNSDk",
        "outputId": "d7e095d6-e697-495e-96f7-1096115069b5",
        "colab": {
          "base_uri": "https://localhost:8080/",
          "height": 34
        }
      },
      "source": [
        "print(label.shape)"
      ],
      "execution_count": 144,
      "outputs": [
        {
          "output_type": "stream",
          "text": [
            "(1143, 3)\n"
          ],
          "name": "stdout"
        }
      ]
    },
    {
      "cell_type": "markdown",
      "metadata": {
        "id": "nKsIBEtQge0_"
      },
      "source": [
        "**Pembuatan Model Layer** <br>\n",
        "menggunakan embedding dan LSTM. relu dibuat agar fully connected antar layer\n",
        "sementara dropout untuk mengurangi overfitting."
      ]
    },
    {
      "cell_type": "code",
      "metadata": {
        "id": "vcaUEMHkNqXK",
        "outputId": "9108e0a6-8c5a-4d1e-ea9f-a1e5d64731e0",
        "colab": {
          "base_uri": "https://localhost:8080/",
          "height": 357
        }
      },
      "source": [
        "model=Sequential()\n",
        "\n",
        "model.add(Embedding(vocab_size,16))\n",
        "model.add(Masking(mask_value=0.0))\n",
        "# model.add(Dropout(0.6))\n",
        "model.add((LSTM(16)))\n",
        "model.add(Dense(8, activation='relu'))\n",
        "model.add(Dropout(0.5))\n",
        "model.add(Dense(3,activation='softmax'))\n",
        "model.summary()"
      ],
      "execution_count": 219,
      "outputs": [
        {
          "output_type": "stream",
          "text": [
            "Model: \"sequential_32\"\n",
            "_________________________________________________________________\n",
            "Layer (type)                 Output Shape              Param #   \n",
            "=================================================================\n",
            "embedding_32 (Embedding)     (None, None, 16)          80000     \n",
            "_________________________________________________________________\n",
            "masking_12 (Masking)         (None, None, 16)          0         \n",
            "_________________________________________________________________\n",
            "lstm_32 (LSTM)               (None, 16)                2112      \n",
            "_________________________________________________________________\n",
            "dense_43 (Dense)             (None, 8)                 136       \n",
            "_________________________________________________________________\n",
            "dropout_32 (Dropout)         (None, 8)                 0         \n",
            "_________________________________________________________________\n",
            "dense_44 (Dense)             (None, 3)                 27        \n",
            "=================================================================\n",
            "Total params: 82,275\n",
            "Trainable params: 82,275\n",
            "Non-trainable params: 0\n",
            "_________________________________________________________________\n"
          ],
          "name": "stdout"
        }
      ]
    },
    {
      "cell_type": "code",
      "metadata": {
        "id": "eewzR3rFY6yC",
        "outputId": "4359e0eb-185a-4d6e-daca-876c957da258",
        "colab": {
          "base_uri": "https://localhost:8080/",
          "height": 34
        }
      },
      "source": [
        "from keras.callbacks import ModelCheckpoint, EarlyStopping, CSVLogger\n",
        "modelcheckpoint = ModelCheckpoint(\n",
        "    filepath='./nlpsms.hdf5',\n",
        "    monitor='loss',\n",
        "    save_best_only=True,\n",
        "    period=1\n",
        ")\n",
        "earlystopping = EarlyStopping(\n",
        "    monitor='loss', \n",
        "    min_delta=0.001, \n",
        "    patience=10\n",
        ")"
      ],
      "execution_count": 220,
      "outputs": [
        {
          "output_type": "stream",
          "text": [
            "WARNING:tensorflow:`period` argument is deprecated. Please use `save_freq` to specify the frequency in number of batches seen.\n"
          ],
          "name": "stdout"
        }
      ]
    },
    {
      "cell_type": "markdown",
      "metadata": {
        "id": "zEJx3jzqgjpp"
      },
      "source": [
        "**Compile Model**"
      ]
    },
    {
      "cell_type": "code",
      "metadata": {
        "id": "547DcsWDNxBN"
      },
      "source": [
        "\n",
        "model.compile(\n",
        "    loss='categorical_crossentropy',\n",
        "    optimizer='adam',\n",
        "    metrics=['accuracy'],\n",
        ")"
      ],
      "execution_count": 221,
      "outputs": []
    },
    {
      "cell_type": "markdown",
      "metadata": {
        "id": "NkQYR8pcgm5N"
      },
      "source": [
        "**Model Fitting dan Proses Training**"
      ]
    },
    {
      "cell_type": "code",
      "metadata": {
        "id": "9auu-OLJNxGP",
        "outputId": "90866e2f-7e73-44a1-e2c1-d94c27fe06fc",
        "colab": {
          "base_uri": "https://localhost:8080/",
          "height": 1000
        }
      },
      "source": [
        "num_epochs = 100\n",
        "history = model.fit(padded_latih, label_latih, epochs=num_epochs, validation_data=(padded_test, label_test), verbose=2,callbacks=[modelcheckpoint, earlystopping])"
      ],
      "execution_count": 222,
      "outputs": [
        {
          "output_type": "stream",
          "text": [
            "Epoch 1/100\n",
            "29/29 - 2s - loss: 1.0901 - accuracy: 0.5481 - val_loss: 1.0782 - val_accuracy: 0.6332\n",
            "Epoch 2/100\n",
            "29/29 - 1s - loss: 1.0421 - accuracy: 0.6827 - val_loss: 0.9738 - val_accuracy: 0.7205\n",
            "Epoch 3/100\n",
            "29/29 - 1s - loss: 0.8734 - accuracy: 0.7309 - val_loss: 0.7963 - val_accuracy: 0.7205\n",
            "Epoch 4/100\n",
            "29/29 - 1s - loss: 0.7238 - accuracy: 0.7451 - val_loss: 0.6300 - val_accuracy: 0.7598\n",
            "Epoch 5/100\n",
            "29/29 - 1s - loss: 0.5751 - accuracy: 0.7910 - val_loss: 0.5147 - val_accuracy: 0.8035\n",
            "Epoch 6/100\n",
            "29/29 - 1s - loss: 0.4773 - accuracy: 0.8359 - val_loss: 0.4300 - val_accuracy: 0.8341\n",
            "Epoch 7/100\n",
            "29/29 - 1s - loss: 0.3876 - accuracy: 0.8556 - val_loss: 0.3574 - val_accuracy: 0.8821\n",
            "Epoch 8/100\n",
            "29/29 - 1s - loss: 0.3469 - accuracy: 0.8665 - val_loss: 0.3271 - val_accuracy: 0.8865\n",
            "Epoch 9/100\n",
            "29/29 - 1s - loss: 0.2998 - accuracy: 0.8862 - val_loss: 0.3052 - val_accuracy: 0.8777\n",
            "Epoch 10/100\n",
            "29/29 - 1s - loss: 0.2987 - accuracy: 0.8796 - val_loss: 0.3267 - val_accuracy: 0.8646\n",
            "Epoch 11/100\n",
            "29/29 - 1s - loss: 0.2638 - accuracy: 0.8950 - val_loss: 0.2954 - val_accuracy: 0.8996\n",
            "Epoch 12/100\n",
            "29/29 - 1s - loss: 0.2712 - accuracy: 0.8873 - val_loss: 0.3079 - val_accuracy: 0.8908\n",
            "Epoch 13/100\n",
            "29/29 - 1s - loss: 0.2546 - accuracy: 0.8775 - val_loss: 0.3033 - val_accuracy: 0.9039\n",
            "Epoch 14/100\n",
            "29/29 - 1s - loss: 0.2472 - accuracy: 0.8961 - val_loss: 0.3051 - val_accuracy: 0.8996\n",
            "Epoch 15/100\n",
            "29/29 - 1s - loss: 0.2436 - accuracy: 0.8982 - val_loss: 0.3082 - val_accuracy: 0.8996\n",
            "Epoch 16/100\n",
            "29/29 - 1s - loss: 0.2393 - accuracy: 0.9004 - val_loss: 0.3524 - val_accuracy: 0.8952\n",
            "Epoch 17/100\n",
            "29/29 - 1s - loss: 0.2077 - accuracy: 0.9125 - val_loss: 0.3487 - val_accuracy: 0.8646\n",
            "Epoch 18/100\n",
            "29/29 - 1s - loss: 0.2614 - accuracy: 0.8993 - val_loss: 0.3718 - val_accuracy: 0.8908\n",
            "Epoch 19/100\n",
            "29/29 - 1s - loss: 0.2467 - accuracy: 0.9125 - val_loss: 0.3521 - val_accuracy: 0.8996\n",
            "Epoch 20/100\n",
            "29/29 - 1s - loss: 0.2089 - accuracy: 0.9354 - val_loss: 0.4088 - val_accuracy: 0.8908\n",
            "Epoch 21/100\n",
            "29/29 - 1s - loss: 0.2120 - accuracy: 0.9278 - val_loss: 0.3864 - val_accuracy: 0.8865\n",
            "Epoch 22/100\n",
            "29/29 - 1s - loss: 0.2333 - accuracy: 0.9300 - val_loss: 0.3954 - val_accuracy: 0.8908\n",
            "Epoch 23/100\n",
            "29/29 - 1s - loss: 0.2243 - accuracy: 0.9289 - val_loss: 0.3985 - val_accuracy: 0.8908\n",
            "Epoch 24/100\n",
            "29/29 - 1s - loss: 0.2024 - accuracy: 0.9431 - val_loss: 0.4387 - val_accuracy: 0.8690\n",
            "Epoch 25/100\n",
            "29/29 - 1s - loss: 0.2380 - accuracy: 0.9289 - val_loss: 0.4384 - val_accuracy: 0.8821\n",
            "Epoch 26/100\n",
            "29/29 - 1s - loss: 0.2275 - accuracy: 0.9070 - val_loss: 0.4567 - val_accuracy: 0.8777\n",
            "Epoch 27/100\n",
            "29/29 - 1s - loss: 0.2228 - accuracy: 0.9344 - val_loss: 0.4573 - val_accuracy: 0.8821\n",
            "Epoch 28/100\n",
            "29/29 - 1s - loss: 0.2039 - accuracy: 0.9365 - val_loss: 0.4634 - val_accuracy: 0.8734\n",
            "Epoch 29/100\n",
            "29/29 - 1s - loss: 0.2353 - accuracy: 0.9092 - val_loss: 0.4590 - val_accuracy: 0.8952\n",
            "Epoch 30/100\n",
            "29/29 - 1s - loss: 0.2299 - accuracy: 0.9234 - val_loss: 0.5676 - val_accuracy: 0.8603\n",
            "Epoch 31/100\n",
            "29/29 - 1s - loss: 0.2557 - accuracy: 0.9190 - val_loss: 0.4686 - val_accuracy: 0.8996\n",
            "Epoch 32/100\n",
            "29/29 - 1s - loss: 0.2767 - accuracy: 0.9070 - val_loss: 0.3731 - val_accuracy: 0.8952\n",
            "Epoch 33/100\n",
            "29/29 - 1s - loss: 0.2210 - accuracy: 0.9179 - val_loss: 0.3353 - val_accuracy: 0.8996\n",
            "Epoch 34/100\n",
            "29/29 - 1s - loss: 0.2166 - accuracy: 0.9311 - val_loss: 0.3781 - val_accuracy: 0.8908\n"
          ],
          "name": "stdout"
        }
      ]
    },
    {
      "cell_type": "code",
      "metadata": {
        "id": "smJ4VznANxJC",
        "outputId": "9d8177be-a396-4954-ce23-86ec50b40ddc",
        "colab": {
          "base_uri": "https://localhost:8080/",
          "height": 295
        }
      },
      "source": [
        "plt.plot(history.history['accuracy'])\n",
        "plt.plot(history.history['val_accuracy'])\n",
        "plt.title('model accuracy')\n",
        "plt.ylabel('accuracy')\n",
        "plt.xlabel('epoch')\n",
        "plt.legend(['train', 'test'], loc='upper left')\n",
        "plt.show()"
      ],
      "execution_count": 223,
      "outputs": [
        {
          "output_type": "display_data",
          "data": {
            "image/png": "[encoded data removed]",
            "text/plain": [
              "<Figure size 432x288 with 1 Axes>"
            ]
          },
          "metadata": {
            "tags": [],
            "needs_background": "light"
          }
        }
      ]
    },
    {
      "cell_type": "code",
      "metadata": {
        "id": "Yof0w26yNxN2",
        "outputId": "ffa8376f-9e16-4496-bdc9-d511bbeda90b",
        "colab": {
          "base_uri": "https://localhost:8080/",
          "height": 295
        }
      },
      "source": [
        "plt.plot(history.history['loss'])\n",
        "plt.plot(history.history['val_loss'])\n",
        "plt.title('model loss')\n",
        "plt.ylabel('loss')\n",
        "plt.xlabel('epoch')\n",
        "plt.legend(['train', 'test'], loc='upper left')\n",
        "plt.show()"
      ],
      "execution_count": 224,
      "outputs": [
        {
          "output_type": "display_data",
          "data": {
            "image/png": "[encoded data removed]",
            "text/plain": [
              "<Figure size 432x288 with 1 Axes>"
            ]
          },
          "metadata": {
            "tags": [],
            "needs_background": "light"
          }
        }
      ]
    },
    {
      "cell_type": "markdown",
      "metadata": {
        "id": "KPjc9ns4XJEl"
      },
      "source": [
        "**Testing** <br>\n",
        "testing dilakukan dengan tidak menggunakan data selain data training\n",
        "mesin sudah mampu memprediksi label yang dimaksud."
      ]
    },
    {
      "cell_type": "code",
      "metadata": {
        "id": "yy9nXrlmNxSY",
        "outputId": "87dadb80-6ee1-47e7-e5ad-e20132c27df2",
        "colab": {
          "base_uri": "https://localhost:8080/",
          "height": 68
        }
      },
      "source": [
        "txt = [\"dapatkan hadiah menarik dari kami\"]\n",
        "\n",
        "seq = tokenizer.texts_to_sequences(txt)\n",
        "padded = pad_sequences(seq, maxlen=max_length)\n",
        "pred = model.predict(padded)\n",
        "labels = ['penipuan', 'promo', 'sms']\n",
        "\n",
        "print(pred)\n",
        "print(np.argmax(pred))\n",
        "print(labels[np.argmax(pred)])"
      ],
      "execution_count": 225,
      "outputs": [
        {
          "output_type": "stream",
          "text": [
            "[[0.45960763 0.28417915 0.25621316]]\n",
            "0\n",
            "penipuan\n"
          ],
          "name": "stdout"
        }
      ]
    },
    {
      "cell_type": "code",
      "metadata": {
        "id": "AbjegP7MNxVY",
        "outputId": "6d03eefd-6fd2-435b-adfd-1666764e12ec",
        "colab": {
          "base_uri": "https://localhost:8080/",
          "height": 68
        }
      },
      "source": [
        "txt = [\"ayo download penawaran kami\"]\n",
        "\n",
        "seq = tokenizer.texts_to_sequences(txt)\n",
        "padded = pad_sequences(seq, maxlen=max_length)\n",
        "pred = model.predict(padded)\n",
        "labels = ['penipuan', 'promo', 'sms']\n",
        "\n",
        "print(pred)\n",
        "print(np.argmax(pred))\n",
        "print(labels[np.argmax(pred)])"
      ],
      "execution_count": 226,
      "outputs": [
        {
          "output_type": "stream",
          "text": [
            "[[0.02995974 0.04310292 0.92693734]]\n",
            "2\n",
            "sms\n"
          ],
          "name": "stdout"
        }
      ]
    },
    {
      "cell_type": "code",
      "metadata": {
        "id": "LW3o-5RRNxQt",
        "outputId": "e413ce42-18e4-45a8-b4d5-47a6d085fb43",
        "colab": {
          "base_uri": "https://localhost:8080/",
          "height": 68
        }
      },
      "source": [
        "txt = [\"Waalaikumsalamin apa yg dpt saya bantu min?\"]\n",
        "\n",
        "seq = tokenizer.texts_to_sequences(txt)\n",
        "padded = pad_sequences(seq, maxlen=max_length)\n",
        "pred = model.predict(padded)\n",
        "labels = ['penipuan', 'promo', 'sms']\n",
        "\n",
        "print(pred)\n",
        "print(np.argmax(pred))\n",
        "print(labels[np.argmax(pred)])"
      ],
      "execution_count": 227,
      "outputs": [
        {
          "output_type": "stream",
          "text": [
            "[[0.00272824 0.00600423 0.9912675 ]]\n",
            "2\n",
            "sms\n"
          ],
          "name": "stdout"
        }
      ]
    },
    {
      "cell_type": "code",
      "metadata": {
        "id": "Wj-WSdWmNxLq",
        "outputId": "6df9eb6d-d19e-484f-8012-d3cc72e27e6d",
        "colab": {
          "base_uri": "https://localhost:8080/",
          "height": 68
        }
      },
      "source": [
        "txt = [\"pulsamu tinggal dikit? Beli pakai pulsa aja Bro, dapatkan sekarang \"]\n",
        "seq = tokenizer.texts_to_sequences(txt)\n",
        "padded = pad_sequences(seq, maxlen=max_length)\n",
        "pred = model.predict(padded)\n",
        "labels = ['penipuan', 'promo', 'sms']\n",
        "\n",
        "print(pred)\n",
        "print(np.argmax(pred))\n",
        "print(labels[np.argmax(pred)])"
      ],
      "execution_count": 236,
      "outputs": [
        {
          "output_type": "stream",
          "text": [
            "[[0.09668239 0.7483626  0.15495509]]\n",
            "1\n",
            "promo\n"
          ],
          "name": "stdout"
        }
      ]
    },
    {
      "cell_type": "code",
      "metadata": {
        "id": "N5-j9QaIadAl",
        "outputId": "244667d0-c5ce-49a5-9f8e-2599e8a3367c",
        "colab": {
          "base_uri": "https://localhost:8080/",
          "height": 68
        }
      },
      "source": [
        "txt = [\"lagi apa sayang?\"]\n",
        "seq = tokenizer.texts_to_sequences(txt)\n",
        "padded = pad_sequences(seq, maxlen=max_length)\n",
        "pred = model.predict(padded)\n",
        "labels = ['penipuan', 'promo', 'sms']\n",
        "\n",
        "print(pred)\n",
        "print(np.argmax(pred))\n",
        "print(labels[np.argmax(pred)])"
      ],
      "execution_count": 237,
      "outputs": [
        {
          "output_type": "stream",
          "text": [
            "[[0.00303298 0.00660947 0.9903576 ]]\n",
            "2\n",
            "sms\n"
          ],
          "name": "stdout"
        }
      ]
    },
    {
      "cell_type": "markdown",
      "metadata": {
        "id": "MZx3B2_rhUvD"
      },
      "source": [
        "-----------------------------------------------------------\n",
        "**Profil Peserta**\n",
        "\n",
        "Nama Lengkap : Ilham Winar Nugroho <br>\n",
        "Nomer Telepon : 087838014299 <br>\n",
        "Domisili : Tangerang <br>\n",
        "Tentang Saya : Tertarik Belajar Machine Learning <br>\n",
        "Pekerjaan : Pegawai BUMN <br>"
      ]
    }
  ]
}